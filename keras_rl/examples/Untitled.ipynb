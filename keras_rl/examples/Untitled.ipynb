{
 "cells": [
  {
   "cell_type": "code",
   "execution_count": 1,
   "metadata": {},
   "outputs": [
    {
     "ename": "ImportError",
     "evalue": "attempted relative import with no known parent package",
     "output_type": "error",
     "traceback": [
      "\u001b[1;31m---------------------------------------------------------------------------\u001b[0m",
      "\u001b[1;31mImportError\u001b[0m                               Traceback (most recent call last)",
      "\u001b[1;32m<ipython-input-1-bf0ea7774704>\u001b[0m in \u001b[0;36m<module>\u001b[1;34m\u001b[0m\n\u001b[0;32m      6\u001b[0m \u001b[1;32mfrom\u001b[0m \u001b[0mtensorflow\u001b[0m\u001b[1;33m.\u001b[0m\u001b[0mkeras\u001b[0m\u001b[1;33m.\u001b[0m\u001b[0moptimizers\u001b[0m \u001b[1;32mimport\u001b[0m \u001b[0mAdam\u001b[0m\u001b[1;33m\u001b[0m\u001b[1;33m\u001b[0m\u001b[0m\n\u001b[0;32m      7\u001b[0m \u001b[1;33m\u001b[0m\u001b[0m\n\u001b[1;32m----> 8\u001b[1;33m \u001b[1;32mfrom\u001b[0m \u001b[1;33m.\u001b[0m\u001b[1;33m.\u001b[0m\u001b[0mrl\u001b[0m\u001b[1;33m.\u001b[0m\u001b[0magents\u001b[0m\u001b[1;33m.\u001b[0m\u001b[0mdqn\u001b[0m \u001b[1;32mimport\u001b[0m \u001b[0mDQNAgent\u001b[0m\u001b[1;33m\u001b[0m\u001b[1;33m\u001b[0m\u001b[0m\n\u001b[0m\u001b[0;32m      9\u001b[0m \u001b[1;33m\u001b[0m\u001b[0m\n\u001b[0;32m     10\u001b[0m \u001b[1;32mfrom\u001b[0m \u001b[1;33m.\u001b[0m\u001b[1;33m.\u001b[0m\u001b[0mrl\u001b[0m\u001b[1;33m.\u001b[0m\u001b[0mpolicy\u001b[0m \u001b[1;32mimport\u001b[0m \u001b[0mEpsGreedyQPolicy\u001b[0m\u001b[1;33m\u001b[0m\u001b[1;33m\u001b[0m\u001b[0m\n",
      "\u001b[1;31mImportError\u001b[0m: attempted relative import with no known parent package"
     ]
    }
   ],
   "source": [
    "import numpy as np\n",
    "import gym\n",
    "\n",
    "from tensorflow.keras.models import Sequential\n",
    "from tensorflow.keras.layers import Dense, Activation, Flatten\n",
    "from tensorflow.keras.optimizers import Adam\n",
    "\n",
    "from ..rl.agents.dqn import DQNAgent\n",
    "\n",
    "from ..rl.policy import EpsGreedyQPolicy\n",
    "from ..rl.memory import SequentialMemory\n"
   ]
  },
  {
   "cell_type": "code",
   "execution_count": 4,
   "metadata": {},
   "outputs": [],
   "source": [
    "import sys\n",
    "import os"
   ]
  },
  {
   "cell_type": "code",
   "execution_count": 25,
   "metadata": {},
   "outputs": [
    {
     "data": {
      "text/plain": [
       "['E:\\\\tensorflow\\\\backtrader\\\\keras-rl\\\\examples',\n",
       " 'D:\\\\ProgramData\\\\Anaconda3\\\\envs\\\\backtrader\\\\python37.zip',\n",
       " 'D:\\\\ProgramData\\\\Anaconda3\\\\envs\\\\backtrader\\\\DLLs',\n",
       " 'D:\\\\ProgramData\\\\Anaconda3\\\\envs\\\\backtrader\\\\lib',\n",
       " 'D:\\\\ProgramData\\\\Anaconda3\\\\envs\\\\backtrader',\n",
       " '',\n",
       " 'D:\\\\ProgramData\\\\Anaconda3\\\\envs\\\\backtrader\\\\lib\\\\site-packages',\n",
       " 'D:\\\\ProgramData\\\\Anaconda3\\\\envs\\\\backtrader\\\\lib\\\\site-packages\\\\backtrader-1.9.74.123-py3.7.egg',\n",
       " 'D:\\\\ProgramData\\\\Anaconda3\\\\envs\\\\backtrader\\\\lib\\\\site-packages\\\\win32',\n",
       " 'D:\\\\ProgramData\\\\Anaconda3\\\\envs\\\\backtrader\\\\lib\\\\site-packages\\\\win32\\\\lib',\n",
       " 'D:\\\\ProgramData\\\\Anaconda3\\\\envs\\\\backtrader\\\\lib\\\\site-packages\\\\Pythonwin',\n",
       " 'D:\\\\ProgramData\\\\Anaconda3\\\\envs\\\\backtrader\\\\lib\\\\site-packages\\\\IPython\\\\extensions',\n",
       " 'C:\\\\Users\\\\Administer\\\\.ipython',\n",
       " 'E:\\\\tensorflow\\\\backtrader\\\\keras-rl\\\\examples',\n",
       " 'E:\\\\tensorflow\\\\backtrader\\\\keras-rl\\\\examples',\n",
       " 'E:\\\\tensorflow\\\\backtrader\\\\keras-rl\\\\examples',\n",
       " 'E:\\\\tensorflow\\\\backtrader\\\\keras-rl\\\\examples',\n",
       " 'E:\\\\tensorflow\\\\backtrader\\\\keras-rl\\\\examples',\n",
       " 'E:\\\\tensorflow\\\\backtrader\\\\keras-rl',\n",
       " 'E:\\\\tensorflow\\\\backtrader\\\\keras-rl',\n",
       " 'E:\\\\tensorflow\\\\backtrader\\\\keras-rl',\n",
       " 'E:\\\\tensorflow\\\\backtrader\\\\keras-rl',\n",
       " 'E:\\\\tensorflow\\\\backtrader\\\\keras-rl']"
      ]
     },
     "execution_count": 25,
     "metadata": {},
     "output_type": "execute_result"
    }
   ],
   "source": [
    "path = os.path.dirname(os.path.abspath('__file__'))\n",
    "path = os.path.dirname(path)\n",
    "path\n",
    "# os.path.dirname(path)\n",
    "sys.path"
   ]
  },
  {
   "cell_type": "code",
   "execution_count": 26,
   "metadata": {},
   "outputs": [
    {
     "ename": "ImportError",
     "evalue": "attempted relative import with no known parent package",
     "output_type": "error",
     "traceback": [
      "\u001b[1;31m---------------------------------------------------------------------------\u001b[0m",
      "\u001b[1;31mImportError\u001b[0m                               Traceback (most recent call last)",
      "\u001b[1;32m<ipython-input-26-81d568af2711>\u001b[0m in \u001b[0;36m<module>\u001b[1;34m\u001b[0m\n\u001b[1;32m----> 1\u001b[1;33m \u001b[1;32mfrom\u001b[0m \u001b[1;33m.\u001b[0m\u001b[1;33m.\u001b[0m \u001b[1;32mimport\u001b[0m \u001b[0mrl\u001b[0m\u001b[1;33m\u001b[0m\u001b[1;33m\u001b[0m\u001b[0m\n\u001b[0m",
      "\u001b[1;31mImportError\u001b[0m: attempted relative import with no known parent package"
     ]
    }
   ],
   "source": [
    "from .. import rl"
   ]
  }
 ],
 "metadata": {
  "kernelspec": {
   "display_name": "Python 3",
   "language": "python",
   "name": "python3"
  },
  "language_info": {
   "codemirror_mode": {
    "name": "ipython",
    "version": 3
   },
   "file_extension": ".py",
   "mimetype": "text/x-python",
   "name": "python",
   "nbconvert_exporter": "python",
   "pygments_lexer": "ipython3",
   "version": "3.7.7"
  }
 },
 "nbformat": 4,
 "nbformat_minor": 4
}
